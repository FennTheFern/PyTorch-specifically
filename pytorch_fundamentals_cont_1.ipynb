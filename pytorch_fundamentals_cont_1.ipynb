{
  "nbformat": 4,
  "nbformat_minor": 0,
  "metadata": {
    "colab": {
      "provenance": [],
      "authorship_tag": "ABX9TyO8B9g//F3AeffZPrAqr/+r",
      "include_colab_link": true
    },
    "kernelspec": {
      "name": "python3",
      "display_name": "Python 3"
    },
    "language_info": {
      "name": "python"
    }
  },
  "cells": [
    {
      "cell_type": "markdown",
      "metadata": {
        "id": "view-in-github",
        "colab_type": "text"
      },
      "source": [
        "<a href=\"https://colab.research.google.com/github/FennTheFern/PyTorch-specifically/blob/main/pytorch_fundamentals_cont_1.ipynb\" target=\"_parent\"><img src=\"https://colab.research.google.com/assets/colab-badge.svg\" alt=\"Open In Colab\"/></a>"
      ]
    },
    {
      "cell_type": "code",
      "execution_count": null,
      "metadata": {
        "id": "79zo_KyNLu0q"
      },
      "outputs": [],
      "source": [
        "import torch\n",
        "import pandas as pd\n",
        "import numpy as np\n",
        "import matplotlib.pyplot as plt\n"
      ]
    },
    {
      "cell_type": "code",
      "source": [],
      "metadata": {
        "id": "-Wsxj8MHOMk-"
      },
      "execution_count": null,
      "outputs": []
    },
    {
      "cell_type": "markdown",
      "source": [
        "Creating a range of tensors and tensor-likes"
      ],
      "metadata": {
        "id": "8PxrvktTML6F"
      }
    },
    {
      "cell_type": "code",
      "source": [
        "# Use torch.arange NOT torch.range\n",
        "# the range created will begin on the first number and\n",
        "# end just before the second number\n",
        "torch.arange(0, 10)"
      ],
      "metadata": {
        "colab": {
          "base_uri": "https://localhost:8080/"
        },
        "id": "9dyjUF8aMKJi",
        "outputId": "b3b1eb63-5e9d-41df-c4b3-55d7e0988a13"
      },
      "execution_count": null,
      "outputs": [
        {
          "output_type": "execute_result",
          "data": {
            "text/plain": [
              "tensor([0, 1, 2, 3, 4, 5, 6, 7, 8, 9])"
            ]
          },
          "metadata": {},
          "execution_count": 22
        }
      ]
    },
    {
      "cell_type": "code",
      "source": [
        "# you can use torch.arange to set starts, stops and steps of a range\n",
        "trying_time = torch.arange(start=0, end=40, step=4)\n",
        "trying_time"
      ],
      "metadata": {
        "colab": {
          "base_uri": "https://localhost:8080/"
        },
        "id": "s05TS419OOjh",
        "outputId": "9d41fdd3-48a4-4294-ec77-975764b73784"
      },
      "execution_count": null,
      "outputs": [
        {
          "output_type": "execute_result",
          "data": {
            "text/plain": [
              "tensor([ 0,  4,  8, 12, 16, 20, 24, 28, 32, 36])"
            ]
          },
          "metadata": {},
          "execution_count": 23
        }
      ]
    },
    {
      "cell_type": "code",
      "source": [
        "# You can create tensors from the ranges that you create\n",
        "# one of the ways is to use the function torch.zeros_like which will replace\n",
        "# all of your numbers in a range with zeros\n",
        "ten_zeros = torch.zeros_like(input=trying_time)\n",
        "ten_zeros"
      ],
      "metadata": {
        "colab": {
          "base_uri": "https://localhost:8080/"
        },
        "id": "I0cLldRcO_w4",
        "outputId": "6a6c5c14-65f6-4ccd-bab9-48f92441e9c2"
      },
      "execution_count": null,
      "outputs": [
        {
          "output_type": "execute_result",
          "data": {
            "text/plain": [
              "tensor([0, 0, 0, 0, 0, 0, 0, 0, 0, 0])"
            ]
          },
          "metadata": {},
          "execution_count": 24
        }
      ]
    },
    {
      "cell_type": "markdown",
      "source": [
        "## Tensor datatypes\n",
        "there are many different tensor datatypes such as floats, integers, or strings.\n",
        "**Note:** Tensor datatypes is one of the 3 big error causing aspects of PyTorch\n",
        "1. Tensors not right datatype\n",
        "2. Tensors not right shape\n",
        "3. Tensors not on the right device (cpu)"
      ],
      "metadata": {
        "id": "Y_lWpNFjS51B"
      }
    },
    {
      "cell_type": "code",
      "source": [
        "# Float 32 tensor is the default for tensors\n",
        "float_32_tensor = torch.tensor([3.0, 6.0, 9.0],\n",
        "                               dtype=None, # what datatype is the tensor (e.g. float32 or float16)\n",
        "                               device=None, # what device is your tensor on\n",
        "                               requires_grad=False) # wether or not to track gradients with this tensors operations\n",
        "float_32_tensor"
      ],
      "metadata": {
        "colab": {
          "base_uri": "https://localhost:8080/"
        },
        "id": "b_DBZZCBTLOq",
        "outputId": "fa6a1ade-7f08-4d4d-e20d-e150c477ddd2"
      },
      "execution_count": null,
      "outputs": [
        {
          "output_type": "execute_result",
          "data": {
            "text/plain": [
              "tensor([3., 6., 9.])"
            ]
          },
          "metadata": {},
          "execution_count": 25
        }
      ]
    },
    {
      "cell_type": "code",
      "source": [
        "float_32_tensor.dtype"
      ],
      "metadata": {
        "colab": {
          "base_uri": "https://localhost:8080/"
        },
        "id": "RsoiR90oWT3_",
        "outputId": "9824c822-0e87-4614-f1fc-505a86f03c48"
      },
      "execution_count": null,
      "outputs": [
        {
          "output_type": "execute_result",
          "data": {
            "text/plain": [
              "torch.float32"
            ]
          },
          "metadata": {},
          "execution_count": 26
        }
      ]
    },
    {
      "cell_type": "code",
      "source": [
        "float_16_tensor = float_32_tensor.type(torch.float16)\n",
        "float_16_tensor"
      ],
      "metadata": {
        "colab": {
          "base_uri": "https://localhost:8080/"
        },
        "id": "RQzXXVOenIMS",
        "outputId": "a87b1449-6760-4e43-a8aa-22faa0ce9a22"
      },
      "execution_count": null,
      "outputs": [
        {
          "output_type": "execute_result",
          "data": {
            "text/plain": [
              "tensor([3., 6., 9.], dtype=torch.float16)"
            ]
          },
          "metadata": {},
          "execution_count": 27
        }
      ]
    },
    {
      "cell_type": "code",
      "source": [
        "float_16_tensor * float_32_tensor"
      ],
      "metadata": {
        "colab": {
          "base_uri": "https://localhost:8080/"
        },
        "id": "JQuu8rPhWXew",
        "outputId": "595043a5-711b-4c85-ded6-970236623207"
      },
      "execution_count": null,
      "outputs": [
        {
          "output_type": "execute_result",
          "data": {
            "text/plain": [
              "tensor([ 9., 36., 81.])"
            ]
          },
          "metadata": {},
          "execution_count": 28
        }
      ]
    },
    {
      "cell_type": "markdown",
      "source": [
        "### Getting information from tensors (attributes not functions)\n",
        "\n",
        "1. Tensors not right datatype - to get datatype from tensor use: `tensor.dtype`\n",
        "2. Tensors not right shape - to get shape from tensor use: `tensor.shape`\n",
        "3. Tensors not on the right device - to get device from tensor use: `tensor.device`"
      ],
      "metadata": {
        "id": "deJmUkNSqTDG"
      }
    },
    {
      "cell_type": "code",
      "source": [
        "# Create a tensor\n",
        "Harriot = torch.rand(4, 6)\n",
        "Harriot"
      ],
      "metadata": {
        "colab": {
          "base_uri": "https://localhost:8080/"
        },
        "id": "LOAI8eciWgNH",
        "outputId": "1b988d52-2059-4156-d048-a31f9c5b93c8"
      },
      "execution_count": null,
      "outputs": [
        {
          "output_type": "execute_result",
          "data": {
            "text/plain": [
              "tensor([[0.5602, 0.8073, 0.9394, 0.1965, 0.7377, 0.1173],\n",
              "        [0.8661, 0.4571, 0.6210, 0.7894, 0.0026, 0.6554],\n",
              "        [0.3489, 0.5861, 0.6606, 0.5907, 0.7045, 0.6761],\n",
              "        [0.0326, 0.2158, 0.6327, 0.6929, 0.9425, 0.9128]])"
            ]
          },
          "metadata": {},
          "execution_count": 29
        }
      ]
    },
    {
      "cell_type": "code",
      "source": [
        "# Find details of the tensor\n",
        "print(Harriot)\n",
        "print(f\"Datatype of tensor: {Harriot.dtype}\")   #.dtype\n",
        "print(f\"Shape of tensor: {Harriot.shape}\")      # .shape\n",
        "print(f\"Device tensor is on: {Harriot.device}\") #.device\n"
      ],
      "metadata": {
        "colab": {
          "base_uri": "https://localhost:8080/"
        },
        "id": "QsVXUTKqqgHL",
        "outputId": "b0f04e1c-ea50-44ed-cd1f-6cf4f82843cf"
      },
      "execution_count": null,
      "outputs": [
        {
          "output_type": "stream",
          "name": "stdout",
          "text": [
            "tensor([[0.5602, 0.8073, 0.9394, 0.1965, 0.7377, 0.1173],\n",
            "        [0.8661, 0.4571, 0.6210, 0.7894, 0.0026, 0.6554],\n",
            "        [0.3489, 0.5861, 0.6606, 0.5907, 0.7045, 0.6761],\n",
            "        [0.0326, 0.2158, 0.6327, 0.6929, 0.9425, 0.9128]])\n",
            "Datatype of tensor: torch.float32\n",
            "Shape of tensor: torch.Size([4, 6])\n",
            "Device tensor is on: cpu\n"
          ]
        }
      ]
    },
    {
      "cell_type": "markdown",
      "source": [
        "You can change the type of a tensor with the .type() function"
      ],
      "metadata": {
        "id": "6_E2Z7xzwcES"
      }
    },
    {
      "cell_type": "code",
      "source": [
        "Harriot = Harriot.type(torch.DoubleTensor)\n",
        "print(f\"Datatype of tensor: {Harriot.dtype}\")"
      ],
      "metadata": {
        "colab": {
          "base_uri": "https://localhost:8080/"
        },
        "id": "92nOkjNwrFWu",
        "outputId": "e9c5afce-8cce-48d9-f1b4-974afc406ad4"
      },
      "execution_count": null,
      "outputs": [
        {
          "output_type": "stream",
          "name": "stdout",
          "text": [
            "Datatype of tensor: torch.float64\n"
          ]
        }
      ]
    },
    {
      "cell_type": "markdown",
      "source": [
        "### Manipulating Tensors (tensor operations)\n",
        "\n",
        "Tensor operations include:\n",
        "* Addition\n",
        "* Subtraction\n",
        "* Multiplication (element-wise)\n",
        "* Division\n",
        "* Matrix multiplication"
      ],
      "metadata": {
        "id": "R4pqRSxrwlTX"
      }
    },
    {
      "cell_type": "code",
      "source": [
        "# Create a tensor and add ten to it\n",
        "\n",
        "tensor = torch.tensor([1, 2, 3])\n",
        "tensor + 10"
      ],
      "metadata": {
        "colab": {
          "base_uri": "https://localhost:8080/"
        },
        "id": "gtJi6lMHuMd5",
        "outputId": "c74775f7-9f60-4f89-867a-98207b213754"
      },
      "execution_count": null,
      "outputs": [
        {
          "output_type": "execute_result",
          "data": {
            "text/plain": [
              "tensor([11, 12, 13])"
            ]
          },
          "metadata": {},
          "execution_count": 32
        }
      ]
    },
    {
      "cell_type": "code",
      "source": [
        "#Multiply tensor by 10\n",
        "tensor * 10\n"
      ],
      "metadata": {
        "colab": {
          "base_uri": "https://localhost:8080/"
        },
        "id": "B2F3l2uPxOpU",
        "outputId": "ce6c8b6d-9328-4396-97ac-d95db0849103"
      },
      "execution_count": null,
      "outputs": [
        {
          "output_type": "execute_result",
          "data": {
            "text/plain": [
              "tensor([10, 20, 30])"
            ]
          },
          "metadata": {},
          "execution_count": 33
        }
      ]
    },
    {
      "cell_type": "code",
      "source": [
        "# because the answers for the multiplication and addition problems were\n",
        "# not stored, the tensor resets back to the origianl stored value\n",
        "tensor"
      ],
      "metadata": {
        "colab": {
          "base_uri": "https://localhost:8080/"
        },
        "id": "hJSKIVoxxXsI",
        "outputId": "04bf3938-6773-48a1-e267-8736d7695a0f"
      },
      "execution_count": null,
      "outputs": [
        {
          "output_type": "execute_result",
          "data": {
            "text/plain": [
              "tensor([1, 2, 3])"
            ]
          },
          "metadata": {},
          "execution_count": 34
        }
      ]
    },
    {
      "cell_type": "code",
      "source": [
        "# PyTorch has in-built functions like torch.mul, which multiplies tensors for you\n",
        "# But these are not usually used since the normal operators work fine\n",
        "torch.mul(tensor, 10)"
      ],
      "metadata": {
        "colab": {
          "base_uri": "https://localhost:8080/"
        },
        "id": "CgEHXQS7x9lU",
        "outputId": "4a873d84-4ac7-46a6-f9be-7809e1d84cc4"
      },
      "execution_count": null,
      "outputs": [
        {
          "output_type": "execute_result",
          "data": {
            "text/plain": [
              "tensor([10, 20, 30])"
            ]
          },
          "metadata": {},
          "execution_count": 35
        }
      ]
    },
    {
      "cell_type": "markdown",
      "source": [
        "### Matrix multiplication\n",
        "Two main ways of performing multiplication in neural networks and deep learning:\n",
        "  1. Element-wise multiplication\n",
        "  2.  Matrix multiplication (dot product)\n",
        "\n",
        "There are two main rules that performing matrix multiplication needs to satisfy:\n",
        "1. The **inner dimensions** must match:\n",
        "* `(3, 2) @ (3, 2)` won't work\n",
        "* `(2, 3) @ (3, 2)` will work\n",
        "* `(3, 2) @ (2, 3)` will work\n",
        "2. The resulting matrix has the shape of the **outer dimensions**:\n",
        "* `(2, 3) @ (3, 2)` -> `(2, 2)`\n",
        "* `(3, 2) @ (2, 3)` -> `(3, 3)`\n",
        "* `(3, 8) @ (8, 5)` -> `(3, 5)`"
      ],
      "metadata": {
        "id": "oX8qN0ar-9gv"
      }
    },
    {
      "cell_type": "code",
      "source": [
        "torch.matmul(torch.rand(2, 3), torch.rand(3, 2))"
      ],
      "metadata": {
        "colab": {
          "base_uri": "https://localhost:8080/"
        },
        "id": "iK3ITihHI96i",
        "outputId": "b172510d-0d39-423a-bb9a-d3d42a0f8230"
      },
      "execution_count": null,
      "outputs": [
        {
          "output_type": "execute_result",
          "data": {
            "text/plain": [
              "tensor([[0.4723, 0.7153],\n",
              "        [0.7959, 1.1111]])"
            ]
          },
          "metadata": {},
          "execution_count": 36
        }
      ]
    },
    {
      "cell_type": "code",
      "source": [
        "# Element wise multiplication\n",
        "# This type of multiplication is where the each individual number is multiplied\n",
        "# By its counterpart in the other tensor. This means the tensors must be the same\n",
        "# shape and size for the multiplication to work\n",
        "print(tensor, \"*\", tensor)\n",
        "print(f\"Equals: {tensor * tensor}\")"
      ],
      "metadata": {
        "colab": {
          "base_uri": "https://localhost:8080/"
        },
        "id": "D-e1mK4m_zH2",
        "outputId": "6d06678d-30df-42fe-810c-d1ad47bbfd54"
      },
      "execution_count": null,
      "outputs": [
        {
          "output_type": "stream",
          "name": "stdout",
          "text": [
            "tensor([1, 2, 3]) * tensor([1, 2, 3])\n",
            "Equals: tensor([1, 4, 9])\n"
          ]
        }
      ]
    },
    {
      "cell_type": "markdown",
      "source": [
        "### PyTorch implements matrix multiplication functionality in the torch.matmul() method.\n",
        "\n",
        "The main two rules for matrix multiplication to remember are:\n",
        "\n",
        "The inner dimensions must match:\n",
        "\n",
        "  (3, 2) @ (3, 2) won't work\n",
        "\n",
        "  (2, 3) @ (3, 2) will work\n",
        "\n",
        "  (3, 2) @ (2, 3) will work\n",
        "\n",
        "The resulting matrix has the shape of the outer dimensions:\n",
        "\n",
        "  (2, 3) @ (3, 2) -> (2, 2)\n",
        "\n",
        "  (3, 2) @ (2, 3) -> (3, 3)\n",
        "\n",
        "Note: \"@\" in Python is the symbol for matrix multiplication.\n",
        "\n",
        "Resource: You can see all of the rules for matrix multiplication using torch.matmul() in the PyTorch documentation."
      ],
      "metadata": {
        "id": "o05fmUGg7rYt"
      }
    },
    {
      "cell_type": "code",
      "source": [
        "# matrix multiplication\n",
        "torch.matmul(tensor, tensor)"
      ],
      "metadata": {
        "colab": {
          "base_uri": "https://localhost:8080/"
        },
        "id": "_6m-2ztPyG0o",
        "outputId": "5e59017c-fab1-47a0-ad8a-651d70860f07"
      },
      "execution_count": null,
      "outputs": [
        {
          "output_type": "execute_result",
          "data": {
            "text/plain": [
              "tensor(14)"
            ]
          },
          "metadata": {},
          "execution_count": 38
        }
      ]
    },
    {
      "cell_type": "code",
      "source": [
        "tensor"
      ],
      "metadata": {
        "colab": {
          "base_uri": "https://localhost:8080/"
        },
        "id": "FYf1m6zfHlea",
        "outputId": "c079600b-70da-4e27-89f5-0dd73fd9c571"
      },
      "execution_count": null,
      "outputs": [
        {
          "output_type": "execute_result",
          "data": {
            "text/plain": [
              "tensor([1, 2, 3])"
            ]
          },
          "metadata": {},
          "execution_count": 39
        }
      ]
    },
    {
      "cell_type": "markdown",
      "source": [
        "### One of the most common errors in deep learning is shape errors"
      ],
      "metadata": {
        "id": "dX1l89lKH-UK"
      }
    },
    {
      "cell_type": "code",
      "source": [
        "#shapes for matrix mulitpication\n",
        "tensor_A = torch.tensor([[1, 2],\n",
        "                        [3, 4],\n",
        "                        [5, 6]])\n",
        "\n",
        "tensor_B = torch.tensor([[7, 10],\n",
        "                          [8, 11],\n",
        "                          [9, 12]])\n",
        "\n",
        "#torch.mm (tensor_A, tensor_B) #torch.mm is the same as torch.matmul (it's an alias for writing less code)\n",
        "torch.matmul(tensor_A, tensor_B)"
      ],
      "metadata": {
        "id": "aZ8MICfPHni_",
        "colab": {
          "base_uri": "https://localhost:8080/",
          "height": 201
        },
        "outputId": "2b0590ff-6605-466b-d868-ba045e2e733f"
      },
      "execution_count": null,
      "outputs": [
        {
          "output_type": "error",
          "ename": "RuntimeError",
          "evalue": "ignored",
          "traceback": [
            "\u001b[0;31m---------------------------------------------------------------------------\u001b[0m",
            "\u001b[0;31mRuntimeError\u001b[0m                              Traceback (most recent call last)",
            "\u001b[0;32m<ipython-input-41-24a68acfea0a>\u001b[0m in \u001b[0;36m<cell line: 11>\u001b[0;34m()\u001b[0m\n\u001b[1;32m      9\u001b[0m \u001b[0;34m\u001b[0m\u001b[0m\n\u001b[1;32m     10\u001b[0m \u001b[0;31m#torch.mm (tensor_A, tensor_B) #torch.mm is the same as torch.matmul (it's an alias for writing less code)\u001b[0m\u001b[0;34m\u001b[0m\u001b[0;34m\u001b[0m\u001b[0m\n\u001b[0;32m---> 11\u001b[0;31m \u001b[0mtorch\u001b[0m\u001b[0;34m.\u001b[0m\u001b[0mmatmul\u001b[0m\u001b[0;34m(\u001b[0m\u001b[0mtensor_A\u001b[0m\u001b[0;34m,\u001b[0m \u001b[0mtensor_B\u001b[0m\u001b[0;34m)\u001b[0m\u001b[0;34m\u001b[0m\u001b[0;34m\u001b[0m\u001b[0m\n\u001b[0m",
            "\u001b[0;31mRuntimeError\u001b[0m: mat1 and mat2 shapes cannot be multiplied (3x2 and 3x2)"
          ]
        }
      ]
    },
    {
      "cell_type": "code",
      "source": [
        "tensor_A.shape, tensor_B.shape"
      ],
      "metadata": {
        "colab": {
          "base_uri": "https://localhost:8080/"
        },
        "id": "TmaqfIpeb7my",
        "outputId": "d03cbc71-d925-4814-97da-104c8a981c11"
      },
      "execution_count": null,
      "outputs": [
        {
          "output_type": "execute_result",
          "data": {
            "text/plain": [
              "(torch.Size([3, 2]), torch.Size([3, 2]))"
            ]
          },
          "metadata": {},
          "execution_count": 44
        }
      ]
    },
    {
      "cell_type": "markdown",
      "source": [
        "Two fix our tensor shape issues, we can manipulate the shape of one of our tensors using a **transpose**.\n",
        "\n",
        "A **Transpose** switches the axes or dimensions of a given tensor."
      ],
      "metadata": {
        "id": "86ebbUzOLYHj"
      }
    },
    {
      "cell_type": "code",
      "source": [
        "# .T is the transpose\n",
        "tensor_B.T"
      ],
      "metadata": {
        "colab": {
          "base_uri": "https://localhost:8080/"
        },
        "id": "aZa2iD34LVru",
        "outputId": "8820f232-4b4d-4b8f-e4b8-e8cb21c9b52e"
      },
      "execution_count": null,
      "outputs": [
        {
          "output_type": "execute_result",
          "data": {
            "text/plain": [
              "tensor([[ 7,  8,  9],\n",
              "        [10, 11, 12]])"
            ]
          },
          "metadata": {},
          "execution_count": 45
        }
      ]
    },
    {
      "cell_type": "code",
      "source": [
        "# The matrix multiplication operation works when tensor_B is transposed\n",
        "print(f\"Original shapes: tensor_A = {tensor_A.shape}, tensor_B = {tensor_B.shape}\")\n",
        "print(f\"New shapes: tensor_A = {tensor_A.shape} (same shape as above), tensor_B.T = {tensor_B.T.shape}\")\n",
        "print(\"Output:\\n\")\n",
        "output = torch.matmul(tensor_A, tensor_B.T)\n",
        "print(output)\n",
        "print(f\"\\nOutput shape: {output.shape}\")"
      ],
      "metadata": {
        "colab": {
          "base_uri": "https://localhost:8080/"
        },
        "id": "tMV2e1QeMfUN",
        "outputId": "a25e3dc6-a65b-4b40-caa1-42cb4b77d631"
      },
      "execution_count": null,
      "outputs": [
        {
          "output_type": "stream",
          "name": "stdout",
          "text": [
            "Original shapes: tensor_A = torch.Size([3, 2]), tensor_B = torch.Size([3, 2])\n",
            "New shapes: tensor_A = torch.Size([3, 2]) (same shape as above), tensor_B.T = torch.Size([2, 3])\n",
            "Output:\n",
            "\n",
            "tensor([[ 27,  30,  33],\n",
            "        [ 61,  68,  75],\n",
            "        [ 95, 106, 117]])\n",
            "\n",
            "Output shape: torch.Size([3, 3])\n"
          ]
        }
      ]
    }
  ]
}